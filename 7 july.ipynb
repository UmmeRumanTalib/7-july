{
 "cells": [
  {
   "cell_type": "markdown",
   "metadata": {},
   "source": [
    "# 6 july"
   ]
  },
  {
   "cell_type": "markdown",
   "metadata": {},
   "source": [
    "# args,kwargs"
   ]
  },
  {
   "cell_type": "code",
   "execution_count": 5,
   "metadata": {},
   "outputs": [],
   "source": [
    "def car(model,year):   #make function\n",
    "    print(model,year)"
   ]
  },
  {
   "cell_type": "code",
   "execution_count": 6,
   "metadata": {},
   "outputs": [
    {
     "name": "stdout",
     "output_type": "stream",
     "text": [
      "corolla 2019\n"
     ]
    }
   ],
   "source": [
    "car('corolla', 2019) #call arrgument\n",
    "                    #changes in argument is not affected in function"
   ]
  },
  {
   "cell_type": "code",
   "execution_count": 7,
   "metadata": {},
   "outputs": [
    {
     "name": "stdout",
     "output_type": "stream",
     "text": [
      "2019 toyota\n"
     ]
    }
   ],
   "source": [
    "car(2019,\"toyota\")"
   ]
  },
  {
   "cell_type": "code",
   "execution_count": 8,
   "metadata": {},
   "outputs": [
    {
     "name": "stdout",
     "output_type": "stream",
     "text": [
      "toyota 2018\n"
     ]
    }
   ],
   "source": [
    "car(year=2018,model=\"toyota\")"
   ]
  },
  {
   "cell_type": "code",
   "execution_count": 9,
   "metadata": {},
   "outputs": [],
   "source": [
    "def name (fname,lname):\n",
    "    print(f'first name:{fname}')\n",
    "    print(f'last name:{lname}')"
   ]
  },
  {
   "cell_type": "code",
   "execution_count": 10,
   "metadata": {},
   "outputs": [
    {
     "name": "stdout",
     "output_type": "stream",
     "text": [
      "first name:umme\n",
      "last name:ruman\n"
     ]
    }
   ],
   "source": [
    "name('umme','ruman')"
   ]
  },
  {
   "cell_type": "code",
   "execution_count": 11,
   "metadata": {},
   "outputs": [
    {
     "name": "stdout",
     "output_type": "stream",
     "text": [
      "first name:ruman\n",
      "last name:talib\n"
     ]
    }
   ],
   "source": [
    "name(fname='ruman',lname='talib')"
   ]
  },
  {
   "cell_type": "code",
   "execution_count": 13,
   "metadata": {},
   "outputs": [
    {
     "name": "stdout",
     "output_type": "stream",
     "text": [
      "first name:zaid\n",
      "last name:mirza\n"
     ]
    }
   ],
   "source": [
    "name(lname='mirza',fname='zaid')"
   ]
  },
  {
   "cell_type": "code",
   "execution_count": 18,
   "metadata": {},
   "outputs": [],
   "source": [
    "def name(fname,lname,mname):\n",
    "    print(f'first name:{fname}')\n",
    "    print(f'middle name:{mname}')\n",
    "    print(f'last name:{lname}')\n",
    "    "
   ]
  },
  {
   "cell_type": "code",
   "execution_count": 19,
   "metadata": {},
   "outputs": [
    {
     "ename": "SyntaxError",
     "evalue": "positional argument follows keyword argument (<ipython-input-19-c2b5cc22cc54>, line 1)",
     "output_type": "error",
     "traceback": [
      "\u001b[1;36m  File \u001b[1;32m\"<ipython-input-19-c2b5cc22cc54>\"\u001b[1;36m, line \u001b[1;32m1\u001b[0m\n\u001b[1;33m    name('umme',mname='ruman','talib')   #keywords always come in last position thats why error generated\u001b[0m\n\u001b[1;37m                             ^\u001b[0m\n\u001b[1;31mSyntaxError\u001b[0m\u001b[1;31m:\u001b[0m positional argument follows keyword argument\n"
     ]
    }
   ],
   "source": [
    "name('umme',mname='ruman','talib')   #keywords always come in last position thats why error generated"
   ]
  },
  {
   "cell_type": "code",
   "execution_count": 20,
   "metadata": {},
   "outputs": [
    {
     "name": "stdout",
     "output_type": "stream",
     "text": [
      "first name:umme\n",
      "middle name:ruman\n",
      "last name:talib\n"
     ]
    }
   ],
   "source": [
    "name('umme','talib',mname='ruman')"
   ]
  },
  {
   "cell_type": "markdown",
   "metadata": {},
   "source": [
    "# Arbirtary Number of Argument\n"
   ]
  },
  {
   "cell_type": "code",
   "execution_count": 21,
   "metadata": {},
   "outputs": [],
   "source": [
    "def pizza(size,flavour,*toppings):\n",
    "    print(size,flavour)\n",
    "    print(toppings)             #diferent no. of arguments and parameters ,* place in parameters because of \n",
    "                                #unlimited things calling                                   "
   ]
  },
  {
   "cell_type": "code",
   "execution_count": 22,
   "metadata": {},
   "outputs": [
    {
     "name": "stdout",
     "output_type": "stream",
     "text": [
      "large chicken tikka\n",
      "('extra cheese', 'olives')\n"
     ]
    }
   ],
   "source": [
    "pizza('large','chicken tikka','extra cheese','olives')  #in topping there are two parameters pass \n",
    "                                                         #in single argument"
   ]
  },
  {
   "cell_type": "code",
   "execution_count": 23,
   "metadata": {},
   "outputs": [
    {
     "name": "stdout",
     "output_type": "stream",
     "text": [
      "large chicken tikka\n",
      "('extra cheese',)\n"
     ]
    }
   ],
   "source": [
    "pizza('large','chicken tikka','extra cheese') #in output , is placed because of * parameter more\n",
    "                                               # than 1 arguments will passed"
   ]
  },
  {
   "cell_type": "code",
   "execution_count": 24,
   "metadata": {},
   "outputs": [
    {
     "name": "stdout",
     "output_type": "stream",
     "text": [
      "large chicken tikka\n",
      "('extra cheese', 'extra spicy', 'extra hot', 'mashroom')\n"
     ]
    }
   ],
   "source": [
    "pizza('large','chicken tikka','extra cheese','extra spicy','extra hot','mashroom')"
   ]
  },
  {
   "cell_type": "code",
   "execution_count": 25,
   "metadata": {},
   "outputs": [],
   "source": [
    "def car(make,model,**specs):\n",
    "    print(make,model)\n",
    "    print(specs)"
   ]
  },
  {
   "cell_type": "code",
   "execution_count": 26,
   "metadata": {},
   "outputs": [
    {
     "name": "stdout",
     "output_type": "stream",
     "text": [
      "toyota prius\n",
      "{'transmission': 'Automatic'}\n"
     ]
    }
   ],
   "source": [
    "car('toyota','prius',transmission='Automatic')      #** is placed for passing key word arguments\n",
    "                                                    # multiple key word is passed"
   ]
  },
  {
   "cell_type": "code",
   "execution_count": 27,
   "metadata": {},
   "outputs": [
    {
     "name": "stdout",
     "output_type": "stream",
     "text": [
      "toyota prius\n",
      "{'transmission': 'Automatic', 'power': 'yes'}\n"
     ]
    }
   ],
   "source": [
    "car('toyota','prius',transmission='Automatic',power='yes') "
   ]
  },
  {
   "cell_type": "markdown",
   "metadata": {},
   "source": [
    "# functions as a variable"
   ]
  },
  {
   "cell_type": "code",
   "execution_count": 44,
   "metadata": {},
   "outputs": [],
   "source": [
    "def add(a,b):\n",
    "    c = a + b\n",
    "    return c"
   ]
  },
  {
   "cell_type": "code",
   "execution_count": 45,
   "metadata": {},
   "outputs": [],
   "source": [
    "def sub(a,b):\n",
    "    c=a - b\n",
    "    return c"
   ]
  },
  {
   "cell_type": "code",
   "execution_count": 46,
   "metadata": {},
   "outputs": [],
   "source": [
    "result = add(2,2) + sub(6,3)"
   ]
  },
  {
   "cell_type": "code",
   "execution_count": 47,
   "metadata": {},
   "outputs": [
    {
     "name": "stdout",
     "output_type": "stream",
     "text": [
      "7\n"
     ]
    }
   ],
   "source": [
    "print(result)"
   ]
  },
  {
   "cell_type": "code",
   "execution_count": 48,
   "metadata": {},
   "outputs": [
    {
     "name": "stdout",
     "output_type": "stream",
     "text": [
      "ummeruman\n"
     ]
    }
   ],
   "source": [
    "result = add('umme','ruman')\n",
    "print(result)"
   ]
  },
  {
   "cell_type": "markdown",
   "metadata": {},
   "source": [
    "# while loop"
   ]
  },
  {
   "cell_type": "code",
   "execution_count": 49,
   "metadata": {},
   "outputs": [
    {
     "name": "stdout",
     "output_type": "stream",
     "text": [
      "0\n",
      "1\n",
      "2\n",
      "3\n",
      "4\n",
      "5\n",
      "6\n",
      "7\n",
      "8\n",
      "9\n"
     ]
    }
   ],
   "source": [
    "for a in range(10):\n",
    "    print(a)          #revision for loop"
   ]
  },
  {
   "cell_type": "code",
   "execution_count": 1,
   "metadata": {},
   "outputs": [
    {
     "name": "stdout",
     "output_type": "stream",
     "text": [
      "0\n",
      "1\n",
      "2\n",
      "3\n",
      "4\n",
      "5\n",
      "6\n",
      "7\n",
      "8\n",
      "9\n"
     ]
    }
   ],
   "source": [
    "a = 0 \n",
    "\n",
    "while a < 10:\n",
    "    print(a)\n",
    "    a = a+1     "
   ]
  },
  {
   "cell_type": "code",
   "execution_count": 8,
   "metadata": {},
   "outputs": [
    {
     "name": "stdout",
     "output_type": "stream",
     "text": [
      "Enter a topping: olives\n",
      "Enter a topping: mashroom\n",
      "Enter a topping: cheese\n",
      "Enter a topping: spice\n",
      "Enter a topping: pepperoni\n",
      "['olives', 'mashroom', 'cheese', 'spice', 'pepperoni']\n"
     ]
    }
   ],
   "source": [
    "topping = []\n",
    "for a in range(5):\n",
    "    toppings = input('Enter a topping: ')\n",
    "    topping.append(toppings)\n",
    "    \n",
    "print(topping)        #for loop doesn't break automatically until it completes its command"
   ]
  },
  {
   "cell_type": "code",
   "execution_count": 1,
   "metadata": {},
   "outputs": [
    {
     "name": "stdout",
     "output_type": "stream",
     "text": [
      "Enter a topping: l\n",
      "Enter a topping: d\n",
      "Enter a topping: e\n",
      "Enter a topping: w\n",
      "Enter a topping: q\n",
      "['l', 'd', 'e', 'w', 'q']\n"
     ]
    }
   ],
   "source": [
    "toppings=[]\n",
    "flag = True\n",
    "\n",
    "while flag:\n",
    "    topping = input(\"Enter a topping: \")\n",
    "    toppings.append(topping)\n",
    "    if topping == 'q':\n",
    "        flag = False\n",
    "        \n",
    "print(toppings)        #in while loop we break loop in between ,when our requirements complete"
   ]
  },
  {
   "cell_type": "code",
   "execution_count": 2,
   "metadata": {},
   "outputs": [
    {
     "name": "stdout",
     "output_type": "stream",
     "text": [
      "Enter a topping: r\n",
      "Enter a topping: r\n",
      "Enter a topping: f\n",
      "Enter a topping: g\n",
      "Enter a topping: q\n",
      "['r', 'r', 'f', 'g']\n"
     ]
    }
   ],
   "source": [
    "toppings=[]\n",
    "flag = True\n",
    "\n",
    "while flag:\n",
    "    topping = input(\"Enter a topping: \")\n",
    "    if topping == 'q':\n",
    "        flag = False\n",
    "    else:\n",
    "        toppings.append(topping)\n",
    "        \n",
    "print(toppings)"
   ]
  },
  {
   "cell_type": "code",
   "execution_count": null,
   "metadata": {},
   "outputs": [],
   "source": [
    "availableFlavours = [\"Fajita\",\"Tikka\",\"bbq\",\"mexican\"]\n",
    "availableSize = [\"large\",\"medium\",\"small\"]\n",
    "availabletoppings = ['olives','cheese','hurbs']\n",
    "print(\"Pizza Order\")\n",
    "print() \n",
    "print()\n",
    "flag = True\n",
    "while flag:\n",
    "    size = input(\"Enter size: \")\n",
    "    if size not in availableSize:\n",
    "        print(f'{size} is not available')\n",
    "        print(\"Please enter the size again\")\n",
    "        size = input(\"Enter size: \")\n",
    "    \n"
   ]
  },
  {
   "cell_type": "code",
   "execution_count": null,
   "metadata": {},
   "outputs": [],
   "source": []
  },
  {
   "cell_type": "code",
   "execution_count": null,
   "metadata": {},
   "outputs": [],
   "source": []
  }
 ],
 "metadata": {
  "kernelspec": {
   "display_name": "Python 3",
   "language": "python",
   "name": "python3"
  },
  "language_info": {
   "codemirror_mode": {
    "name": "ipython",
    "version": 3
   },
   "file_extension": ".py",
   "mimetype": "text/x-python",
   "name": "python",
   "nbconvert_exporter": "python",
   "pygments_lexer": "ipython3",
   "version": "3.6.4"
  }
 },
 "nbformat": 4,
 "nbformat_minor": 2
}
